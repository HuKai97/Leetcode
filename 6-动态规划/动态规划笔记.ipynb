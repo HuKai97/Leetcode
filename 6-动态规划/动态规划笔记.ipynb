{
 "cells": [
  {
   "cell_type": "markdown",
   "metadata": {
    "collapsed": true,
    "pycharm": {
     "name": "#%% md\n"
    }
   },
   "source": [
    "# 0-1背包问题：\n",
    "             有N件物品和一个最多能背重量为W 的背包。第i件物品的重量是weights[i]，得到的价值是value[i]。\n",
    "             每件物品只能用一次，求解将哪些物品装入背包里物品价值总和最大。\n",
    "\n",
    "            如：weights = {1, 3, 4}\n",
    "               values = {15, 20, 30}\n",
    "               bagSize = 4"
   ],
   "outputs": []
  },
  {
   "cell_type": "code",
   "execution_count": 1,
   "outputs": [],
   "source": [
    "# 二维模板\n",
    "class Solution:\n",
    "    def test(self, weights, bagWeight, values) -> bool:\n",
    "        # dp[i][j]表示从下标为 0~i 的物品里任意取，放进容量为 j 的背包，价值总和的最大值\n",
    "        # [物品个数行, 背包重量列]\n",
    "        dp = [[0 for _ in range(bagWeight+1)] for _ in range(len(weights))]\n",
    "        for j in (bagWeight, weights[0]-1, -1):  # 得放的下0物品\n",
    "            # dp[0][j] = dp[0][j-wieghts[0]] + values[0]\n",
    "            dp[0][j] = values[0]\n",
    "        for i in range(1, len(weights)):     # 遍历物品\n",
    "                for j in range(1, bagWeight+1):   # 遍历背包容量\n",
    "                    # 如果当前包的容量放不下当前物品i, 那么就不放，dp[i][j]继续保持前面的累积最大价值\n",
    "                    if j < weights[i]: dp[i][j] = dp[i-1][j]\n",
    "                    else:\n",
    "                        # 动态转移方程\n",
    "                        dp[i][j] = max(dp[i-1][j], dp[i-1][j-weights[i]]+values[i])\n",
    "        return dp[-1][-1]"
   ],
   "metadata": {
    "collapsed": false,
    "pycharm": {
     "name": "#%%\n"
    }
   }
  },
  {
   "cell_type": "code",
   "execution_count": 2,
   "outputs": [],
   "source": [
    "# 一维模板\n",
    "class Solution:\n",
    "    def test(self, weights, bagWeight, values) -> bool:\n",
    "        # dp[i][j]表示从下标为 0~i 的物品里任意取，放进容量为 j 的背包，价值总和的最大值\n",
    "        # [物品个数行, 背包重量列]\n",
    "        dp = [0 for _ in range(bagWegiht+1)]\n",
    "        # dp[0] = 0  # 具体情况具体分析\n",
    "        for i in range(len(weights)):     # 遍历物品\n",
    "            for j in range(bagWegiht, weights[i]-1, -1):   # 遍历背包容量\n",
    "                 # 小于的时候dp[i][j]=dp[i-1][j] => dp[j]=dp[j] 所以无需判断\n",
    "                 # 如果当前包的容量放不下当前物品i, 那么就不放，dp[i][j]继续保持前面的累积最大价值\n",
    "                 if j >= weights[i]:\n",
    "                     # 动态转移方程\n",
    "                     dp[j] = max(dp[j], dp[j-weights[i]]+values[i])\n",
    "        return dp[-1]"
   ],
   "metadata": {
    "collapsed": false,
    "pycharm": {
     "name": "#%%\n"
    }
   }
  },
  {
   "cell_type": "markdown",
   "source": [
    "# 三种题型\n",
    "（1）传统背包问题：dp[i][j]表示在背包容量为j的情况下，从前i个物体中任意选取若干个物体，能够达到的最大重量?最多能装多少？\n",
    "   公式：dp[j] = max(dp[j], dp[j - nums[i]] + nums[i])\n",
    "（2）转型问题1（LeetCode416: 分割等和子集）：dp[i][j]表示在背包容量为j的情况下，从前i个物体中任意选取若干个物体，能否找到重量为j的组合？能否装满背包？\n",
    "   公式：dp[j] = max(dp[j], dp[j - nums[i]] + nums[i])\n",
    "   转型问题1是可以等价用传统背包问题等价的，只要在遍历每个物体结束的时候，比较下当前最大重量是否等于target即可：\n",
    "（3）转型问题2（LeetCode494: 目标和）：dp[i][j]表示在背包容量为j的情况下，从前i个物体中任意选取若干个物体，找到重量为j的组合数目？装满背包有几种方法？\n",
    "   公式：dp[j] += dp[j - nums[i]] 且 dp[0]=1 装满容量为0的背包，有一种方法， 就是啥也不装"
   ],
   "metadata": {
    "collapsed": false,
    "pycharm": {
     "name": "#%% md\n"
    }
   }
  },
  {
   "cell_type": "code",
   "execution_count": null,
   "outputs": [],
   "source": [
    "# 题型二模板\n",
    "dp = [0 for _ in range(bagweight+1)]\n",
    "for i in range(len(weights)):     # 遍历物品\n",
    "    for j in range(bagwegiht, weights[i]-1, -1):   # 遍历背包容量\n",
    "        if j >= weights[i]:\n",
    "           dp[i][j] = max(dp[j], dp[j-nums[i]]+nums[i])\n",
    "        if dp[i][bagweight] == bagweight: return True\n",
    "return False"
   ],
   "metadata": {
    "collapsed": false,
    "pycharm": {
     "name": "#%%\n"
    }
   }
  },
  {
   "cell_type": "markdown",
   "source": [
    "# 完全背包"
   ],
   "metadata": {
    "collapsed": false,
    "pycharm": {
     "name": "#%% md\n"
    }
   }
  },
  {
   "cell_type": "code",
   "execution_count": null,
   "outputs": [],
   "source": [
    "# 模板\n",
    "def test_complete_pack1(nums):\n",
    "    bagweight = ?  # 这里具体问题具体分析\n",
    "    # dp[j]表示背包容量为j，背包最大能装多少的重量\n",
    "    dp = [0 for _ in range(bagweight + 1)]\n",
    "    for i in range(len(nums)):\n",
    "        for j in range(nums[i], bagweight + 1):\n",
    "            dp[j] = max(dp[j], dp[j - nums[i]] + nums[i])\n",
    "    return dp[-1]"
   ],
   "metadata": {
    "collapsed": false,
    "pycharm": {
     "name": "#%%\n"
    }
   }
  },
  {
   "cell_type": "code",
   "execution_count": null,
   "outputs": [],
   "source": [
    "LeetCode518.零钱兑换II（⭐️⭐️高频）\n",
    "LeetCode322.零钱兑换（⭐️⭐️高频 Hot100）\n",
    "LeetCode139.单词拆分（⭐️⭐️思路新 Hot100）"
   ],
   "metadata": {
    "collapsed": false,
    "pycharm": {
     "name": "#%%\n"
    }
   }
  }
 ],
 "metadata": {
  "kernelspec": {
   "display_name": "Python 3",
   "language": "python",
   "name": "python3"
  },
  "language_info": {
   "codemirror_mode": {
    "name": "ipython",
    "version": 2
   },
   "file_extension": ".py",
   "mimetype": "text/x-python",
   "name": "python",
   "nbconvert_exporter": "python",
   "pygments_lexer": "ipython2",
   "version": "2.7.6"
  }
 },
 "nbformat": 4,
 "nbformat_minor": 0
}