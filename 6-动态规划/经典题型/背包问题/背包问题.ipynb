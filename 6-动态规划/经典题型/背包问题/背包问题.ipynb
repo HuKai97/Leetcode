{
 "cells": [
  {
   "cell_type": "code",
   "execution_count": null,
   "metadata": {
    "collapsed": true
   },
   "outputs": [],
   "source": [
    "# 0-1背包\n",
    "# 物品： nums   bagweight\n",
    "dp = [看题目具体情况 for _ in range(bagweight + 1)]\n",
    "dp[0] = 看题目具体情况   有多少种=1   最大价值=0\n",
    "for i in range(len(nums)):\n",
    "    for j in range(bagweight, nums[i]-1, -1):\n",
    "        # 问题1\n",
    "        if j >= nums[i]:\n",
    "            dp[j] = max(dp[j], dp[j-nums[i]]+nums[i])\n",
    "        # 问题2\n",
    "        if j >= nums[i]:   # 可加可不加\n",
    "            dp[j] += dp[j-nums[i]]"
   ]
  },
  {
   "cell_type": "code",
   "execution_count": null,
   "outputs": [],
   "source": [
    "# 完全背包\n",
    "# 物品： nums   bagweight\n",
    "dp = [看题目具体情况 for _ in range(bagweight+1)]\n",
    "dp[0] = 看题目具体情况\n",
    "for i in range(len(nums)):\n",
    "    for j in range(nums[i], bagweight+1):\n",
    "        # 问题1\n",
    "        if j >= nums[i]:\n",
    "            dp[j] = min(dp[j], dp[j-nums[i]]+nums[i])\n",
    "        # 问题2\n",
    "        dp[j] += dp[j-nums[i]]"
   ],
   "metadata": {
    "collapsed": false,
    "pycharm": {
     "name": "#%%\n"
    }
   }
  }
 ],
 "metadata": {
  "kernelspec": {
   "display_name": "Python 3",
   "language": "python",
   "name": "python3"
  },
  "language_info": {
   "codemirror_mode": {
    "name": "ipython",
    "version": 2
   },
   "file_extension": ".py",
   "mimetype": "text/x-python",
   "name": "python",
   "nbconvert_exporter": "python",
   "pygments_lexer": "ipython2",
   "version": "2.7.6"
  }
 },
 "nbformat": 4,
 "nbformat_minor": 0
}