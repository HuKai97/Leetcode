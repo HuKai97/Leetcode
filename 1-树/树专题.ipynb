{
 "cells": [
  {
   "cell_type": "markdown",
   "metadata": {
    "collapsed": true,
    "pycharm": {
     "name": "#%% md\n"
    }
   },
   "source": [
    "1.1、中序遍历-递归法    左根右\n",
    "class Solution:\n",
    "    def inorderTraversal(self, root: Optional[TreeNode]) -> List[int]:\n",
    "        if not root: return []\n",
    "        self.res = []\n",
    "        def dfs(root):\n",
    "            if not root: return\n",
    "            dfs(root.left)\n",
    "            self.res.append(root.val)\n",
    "            dfs(root.right)\n",
    "        dfs(root)\n",
    "        return self.res\n",
    "\n",
    "1.2、中序遍历-迭代法\n",
    "class Solution:\n",
    "    def inorderTraversal(self, root: Optional[TreeNode]) -> List[int]:\n",
    "        # 二、迭代\n",
    "        res = []\n",
    "        cur, stack = root, []\n",
    "        while cur or stack:\n",
    "            while cur:\n",
    "                stack.append(cur)\n",
    "                cur = cur.left\n",
    "            cur = stack.pop()\n",
    "            res.append(cur.val)\n",
    "            cur = cur.right\n",
    "        return res"
   ]
  },
  {
   "cell_type": "markdown",
   "source": [
    "2.1、前序遍历-递归法    根左右\n",
    "class Solution:\n",
    "    def preorderTraversal(self, root: Optional[TreeNode]) -> List[int]:\n",
    "        if not root: return []\n",
    "        self.res = []\n",
    "        def dfs(root):\n",
    "            if not root: return\n",
    "            self.res.append(root.val)\n",
    "            dfs(root.left)\n",
    "            dfs(root.right)\n",
    "        dfs(root)\n",
    "        return self.res\n",
    "\n",
    "2.2、前序遍历-迭代法    根左右\n",
    "class Solution:\n",
    "    def preorderTraversal(self, root: Optional[TreeNode]) -> List[int]:\n",
    "        if not root: return []\n",
    "        stack, cur = [], root\n",
    "        self.res = []\n",
    "        while stack or cur:\n",
    "            while cur:\n",
    "                self.res.append(cur.val)\n",
    "                stack.append(cur)\n",
    "                cur =  cur.left\n",
    "            cur = stack.pop()\n",
    "            cur = cur.right\n",
    "        return self.res"
   ],
   "metadata": {
    "collapsed": false,
    "pycharm": {
     "name": "#%% md\n"
    }
   }
  },
  {
   "cell_type": "markdown",
   "source": [
    "3、层次遍历\n",
    "class Solution:\n",
    "    def levelOrder(self, root: TreeNode) -> List[List[int]]:\n",
    "        if not root: return []\n",
    "        res = []\n",
    "        queue = [root]\n",
    "        while queue:\n",
    "            size, arr = len(queue), []\n",
    "            for _ in range(size):\n",
    "                cur = queue.pop(0)\n",
    "                arr.append(cur.val)\n",
    "                if cur.left: queue.append(cur.left)\n",
    "                if cur.right: queue.append(cur.right)\n",
    "            res.append(copy.deepcopy(arr))\n",
    "        return res"
   ],
   "metadata": {
    "collapsed": false,
    "pycharm": {
     "name": "#%% md\n"
    }
   }
  }
 ],
 "metadata": {
  "kernelspec": {
   "display_name": "Python 3",
   "language": "python",
   "name": "python3"
  },
  "language_info": {
   "codemirror_mode": {
    "name": "ipython",
    "version": 2
   },
   "file_extension": ".py",
   "mimetype": "text/x-python",
   "name": "python",
   "nbconvert_exporter": "python",
   "pygments_lexer": "ipython2",
   "version": "2.7.6"
  }
 },
 "nbformat": 4,
 "nbformat_minor": 0
}